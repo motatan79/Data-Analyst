{
 "cells": [
  {
   "cell_type": "markdown",
   "id": "75d2708f",
   "metadata": {},
   "source": [
    "## Lambda Functions in Pyhton"
   ]
  },
  {
   "cell_type": "code",
   "execution_count": 1,
   "id": "13fb33a6",
   "metadata": {},
   "outputs": [],
   "source": [
    "def raise_to_the_power_of_2(x):\n",
    "    return x ** 2"
   ]
  },
  {
   "cell_type": "code",
   "execution_count": 2,
   "id": "751b3690",
   "metadata": {},
   "outputs": [
    {
     "data": {
      "text/plain": [
       "9"
      ]
     },
     "execution_count": 2,
     "metadata": {},
     "output_type": "execute_result"
    }
   ],
   "source": [
    "raise_to_the_power_of_2(3)"
   ]
  },
  {
   "cell_type": "code",
   "execution_count": 3,
   "id": "9fd0fa28",
   "metadata": {},
   "outputs": [
    {
     "data": {
      "text/plain": [
       "<function __main__.<lambda>(x)>"
      ]
     },
     "execution_count": 3,
     "metadata": {},
     "output_type": "execute_result"
    }
   ],
   "source": [
    "lambda x: x**2"
   ]
  },
  {
   "cell_type": "code",
   "execution_count": 4,
   "id": "40adf783",
   "metadata": {},
   "outputs": [],
   "source": [
    "raise_to_the_power_of_2_lamba = lambda x: x**2"
   ]
  },
  {
   "cell_type": "code",
   "execution_count": 5,
   "id": "b1716771",
   "metadata": {},
   "outputs": [
    {
     "data": {
      "text/plain": [
       "9"
      ]
     },
     "execution_count": 5,
     "metadata": {},
     "output_type": "execute_result"
    }
   ],
   "source": [
    "raise_to_the_power_of_2_lamba(3)"
   ]
  },
  {
   "cell_type": "code",
   "execution_count": 6,
   "id": "7c5d9336",
   "metadata": {},
   "outputs": [
    {
     "data": {
      "text/plain": [
       "5.5"
      ]
     },
     "execution_count": 6,
     "metadata": {},
     "output_type": "execute_result"
    }
   ],
   "source": [
    "(lambda x: x/2) (11)"
   ]
  },
  {
   "cell_type": "code",
   "execution_count": 7,
   "id": "360426a6",
   "metadata": {},
   "outputs": [
    {
     "data": {
      "text/plain": [
       "53.792"
      ]
     },
     "execution_count": 7,
     "metadata": {},
     "output_type": "execute_result"
    }
   ],
   "source": [
    "(lambda x: (2 + 5 *x **4)**2 / (x + 3) ** 3) (2)"
   ]
  },
  {
   "cell_type": "code",
   "execution_count": 8,
   "id": "4dad3a84",
   "metadata": {},
   "outputs": [
    {
     "data": {
      "text/plain": [
       "5"
      ]
     },
     "execution_count": 8,
     "metadata": {},
     "output_type": "execute_result"
    }
   ],
   "source": [
    "# Múltiples parámetros \n",
    "sum_xy = lambda x,y: x + y\n",
    "sum_xy(2,3)"
   ]
  },
  {
   "cell_type": "code",
   "execution_count": 10,
   "id": "9b3adf41",
   "metadata": {},
   "outputs": [
    {
     "data": {
      "text/plain": [
       "12"
      ]
     },
     "execution_count": 10,
     "metadata": {},
     "output_type": "execute_result"
    }
   ],
   "source": [
    "# Si el segundo parámetro es una función cuyo argumento depende del 1ero parámetro\n",
    "sum_xy = lambda x,y: x + y(x)\n",
    "sum_xy(2, lambda x: x*5)"
   ]
  },
  {
   "cell_type": "code",
   "execution_count": 13,
   "id": "430acdbe",
   "metadata": {},
   "outputs": [
    {
     "data": {
      "text/plain": [
       "10"
      ]
     },
     "execution_count": 13,
     "metadata": {},
     "output_type": "execute_result"
    }
   ],
   "source": [
    "(lambda x: x*5) (2)"
   ]
  },
  {
   "cell_type": "code",
   "execution_count": null,
   "id": "30565522",
   "metadata": {},
   "outputs": [],
   "source": []
  }
 ],
 "metadata": {
  "kernelspec": {
   "display_name": "Python 3",
   "language": "python",
   "name": "python3"
  },
  "language_info": {
   "codemirror_mode": {
    "name": "ipython",
    "version": 3
   },
   "file_extension": ".py",
   "mimetype": "text/x-python",
   "name": "python",
   "nbconvert_exporter": "python",
   "pygments_lexer": "ipython3",
   "version": "3.8.8"
  }
 },
 "nbformat": 4,
 "nbformat_minor": 5
}
