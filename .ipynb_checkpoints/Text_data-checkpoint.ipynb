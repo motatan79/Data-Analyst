{
 "cells": [
  {
   "cell_type": "code",
   "execution_count": 6,
   "id": "a7a88188",
   "metadata": {},
   "outputs": [
    {
     "name": "stdout",
     "output_type": "stream",
     "text": [
      "This item is from product category \"A\".\n"
     ]
    }
   ],
   "source": [
    "# para insertar un string es %s\n",
    "\n",
    "product_category = 'A'\n",
    "print('This item is from product category \"%s\".' % product_category)"
   ]
  },
  {
   "cell_type": "code",
   "execution_count": 8,
   "id": "f2d1ada5",
   "metadata": {},
   "outputs": [
    {
     "name": "stdout",
     "output_type": "stream",
     "text": [
      "This item is from product category \"B\".\n"
     ]
    }
   ],
   "source": [
    "product_category = ['A', 'B']\n",
    "print('This item is from product category \"%s\".' % product_category[1]) "
   ]
  },
  {
   "cell_type": "code",
   "execution_count": 12,
   "id": "ad37c101",
   "metadata": {},
   "outputs": [
    {
     "name": "stdout",
     "output_type": "stream",
     "text": [
      "We currently have 500 available units of this item\n"
     ]
    }
   ],
   "source": [
    " # Para insertar un integer\n",
    "quantities = [500, 600]\n",
    "print('We currently have %d available units of this item' % quantities [0] )"
   ]
  },
  {
   "cell_type": "code",
   "execution_count": 17,
   "id": "4d33614f",
   "metadata": {},
   "outputs": [
    {
     "name": "stdout",
     "output_type": "stream",
     "text": [
      "This stock costs $60.35 per share.\n"
     ]
    }
   ],
   "source": [
    "# Para insertar un float\n",
    "stock_share_price_list = [40.5, 60.35]\n",
    "print('This stock costs $%.2f per share.' % stock_share_price_list[1])"
   ]
  },
  {
   "cell_type": "code",
   "execution_count": 20,
   "id": "b887f6e8",
   "metadata": {},
   "outputs": [
    {
     "name": "stdout",
     "output_type": "stream",
     "text": [
      "Currently, we have 500 units of category \"A\" products in store.\n"
     ]
    }
   ],
   "source": [
    "i = 0\n",
    "print(\"Currently, we have %d units of category \\\"%s\\\" products in store.\" % (quantities[i], product_category[i])) "
   ]
  },
  {
   "cell_type": "markdown",
   "id": "dd9731ec",
   "metadata": {},
   "source": [
    "## Manipulating Python Strings"
   ]
  },
  {
   "cell_type": "code",
   "execution_count": 21,
   "id": "b7b15fb4",
   "metadata": {},
   "outputs": [
    {
     "name": "stdout",
     "output_type": "stream",
     "text": [
      "This product is from \n",
      "Category \"A\". \n"
     ]
    }
   ],
   "source": [
    "print('This product is from \\nCategory \"A\". ')"
   ]
  },
  {
   "cell_type": "code",
   "execution_count": 22,
   "id": "ab354bfb",
   "metadata": {},
   "outputs": [
    {
     "name": "stdout",
     "output_type": "stream",
     "text": [
      "This product is from Category \"A\". \t That product is from Category \"B\". \n"
     ]
    }
   ],
   "source": [
    "print('This product is from Category \"A\". \\t That product is from Category \"B\". ')"
   ]
  },
  {
   "cell_type": "code",
   "execution_count": 24,
   "id": "aa5bbf26",
   "metadata": {},
   "outputs": [
    {
     "name": "stdout",
     "output_type": "stream",
     "text": [
      "This product is from Category \"A\". \r",
      "Product 0001\n"
     ]
    }
   ],
   "source": [
    "# Sustituye valores al inicio del String con lo que está después de \\r\n",
    "print('This product is from Category \"A\". \\rProduct 0001')"
   ]
  },
  {
   "cell_type": "markdown",
   "id": "6822d865",
   "metadata": {},
   "source": [
    "## Using Various Python String Methods"
   ]
  },
  {
   "cell_type": "code",
   "execution_count": 25,
   "id": "006bc2f1",
   "metadata": {},
   "outputs": [
    {
     "data": {
      "text/plain": [
       "'Price per unit'"
      ]
     },
     "execution_count": 25,
     "metadata": {},
     "output_type": "execute_result"
    }
   ],
   "source": [
    "s = 'Price per unit'\n",
    "s"
   ]
  },
  {
   "cell_type": "code",
   "execution_count": 27,
   "id": "b4c72a83",
   "metadata": {},
   "outputs": [
    {
     "data": {
      "text/plain": [
       "'Cost per unit'"
      ]
     },
     "execution_count": 27,
     "metadata": {},
     "output_type": "execute_result"
    }
   ],
   "source": [
    "# Para reemplazar parte de un string\n",
    "s1 = s.replace('Price', 'Cost')\n",
    "s1"
   ]
  },
  {
   "cell_type": "code",
   "execution_count": 28,
   "id": "7d418170",
   "metadata": {},
   "outputs": [
    {
     "data": {
      "text/plain": [
       "True"
      ]
     },
     "execution_count": 28,
     "metadata": {},
     "output_type": "execute_result"
    }
   ],
   "source": [
    "s1.startswith('Cost')"
   ]
  },
  {
   "cell_type": "code",
   "execution_count": 29,
   "id": "ecb4810d",
   "metadata": {},
   "outputs": [
    {
     "data": {
      "text/plain": [
       "False"
      ]
     },
     "execution_count": 29,
     "metadata": {},
     "output_type": "execute_result"
    }
   ],
   "source": [
    "s1.startswith('cost')"
   ]
  },
  {
   "cell_type": "code",
   "execution_count": 33,
   "id": "25c38254",
   "metadata": {},
   "outputs": [
    {
     "data": {
      "text/plain": [
       "False"
      ]
     },
     "execution_count": 33,
     "metadata": {},
     "output_type": "execute_result"
    }
   ],
   "source": [
    "s1.startswith('Price')"
   ]
  },
  {
   "cell_type": "code",
   "execution_count": 35,
   "id": "e226c389",
   "metadata": {},
   "outputs": [
    {
     "data": {
      "text/plain": [
       "True"
      ]
     },
     "execution_count": 35,
     "metadata": {},
     "output_type": "execute_result"
    }
   ],
   "source": [
    " s1.endswith('nit')"
   ]
  },
  {
   "cell_type": "code",
   "execution_count": null,
   "id": "6dbdccea",
   "metadata": {},
   "outputs": [],
   "source": []
  }
 ],
 "metadata": {
  "kernelspec": {
   "display_name": "Python 3",
   "language": "python",
   "name": "python3"
  },
  "language_info": {
   "codemirror_mode": {
    "name": "ipython",
    "version": 3
   },
   "file_extension": ".py",
   "mimetype": "text/x-python",
   "name": "python",
   "nbconvert_exporter": "python",
   "pygments_lexer": "ipython3",
   "version": "3.8.8"
  }
 },
 "nbformat": 4,
 "nbformat_minor": 5
}
