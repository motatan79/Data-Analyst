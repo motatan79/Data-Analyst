{
 "cells": [
  {
   "cell_type": "code",
   "execution_count": 1,
   "metadata": {},
   "outputs": [],
   "source": [
    "# Import the relevant modules\n",
    "import requests\n",
    "import json"
   ]
  },
  {
   "cell_type": "code",
   "execution_count": 2,
   "metadata": {},
   "outputs": [],
   "source": [
    "# The documentation for this particular API can be found here:\n",
    "# https://affiliate.itunes.apple.com/resources/documentation/itunes-store-web-service-search-api/"
   ]
  },
  {
   "cell_type": "code",
   "execution_count": 47,
   "metadata": {},
   "outputs": [],
   "source": [
    "# define base URL\n",
    "base_site = \"https://itunes.apple.com/search\""
   ]
  },
  {
   "cell_type": "code",
   "execution_count": 48,
   "metadata": {},
   "outputs": [
    {
     "data": {
      "text/plain": [
       "200"
      ]
     },
     "execution_count": 48,
     "metadata": {},
     "output_type": "execute_result"
    }
   ],
   "source": [
    "# Make a request\n",
    "r = requests.get(base_site, params = {\"term\": \"the beatles\", \"country\": \"us\", \"limit\": 200})\n",
    "r.status_code"
   ]
  },
  {
   "cell_type": "code",
   "execution_count": 49,
   "metadata": {},
   "outputs": [],
   "source": [
    "# Store the response\n",
    "info = r.json()"
   ]
  },
  {
   "cell_type": "markdown",
   "metadata": {},
   "source": [
    "### Inspect the structure of the response"
   ]
  },
  {
   "cell_type": "code",
   "execution_count": 50,
   "metadata": {},
   "outputs": [
    {
     "data": {
      "text/plain": [
       "dict_keys(['resultCount', 'results'])"
      ]
     },
     "execution_count": 50,
     "metadata": {},
     "output_type": "execute_result"
    }
   ],
   "source": [
    "info.keys()"
   ]
  },
  {
   "cell_type": "code",
   "execution_count": 51,
   "metadata": {},
   "outputs": [
    {
     "data": {
      "text/plain": [
       "200"
      ]
     },
     "execution_count": 51,
     "metadata": {},
     "output_type": "execute_result"
    }
   ],
   "source": [
    "info['resultCount']"
   ]
  },
  {
   "cell_type": "markdown",
   "metadata": {},
   "source": [
    "### Locate the name and release date of a song"
   ]
  },
  {
   "cell_type": "code",
   "execution_count": 54,
   "metadata": {},
   "outputs": [
    {
     "data": {
      "text/plain": [
       "'2005-11-01T08:00:00Z'"
      ]
     },
     "execution_count": 54,
     "metadata": {},
     "output_type": "execute_result"
    }
   ],
   "source": [
    "info['results'][0]['releaseDate']"
   ]
  },
  {
   "cell_type": "code",
   "execution_count": 53,
   "metadata": {},
   "outputs": [
    {
     "ename": "KeyError",
     "evalue": "'trackName'",
     "output_type": "error",
     "traceback": [
      "\u001b[1;31m---------------------------------------------------------------------------\u001b[0m",
      "\u001b[1;31mKeyError\u001b[0m                                  Traceback (most recent call last)",
      "\u001b[1;32m<ipython-input-53-e2fb41a2b50c>\u001b[0m in \u001b[0;36m<module>\u001b[1;34m\u001b[0m\n\u001b[1;32m----> 1\u001b[1;33m \u001b[0minfo\u001b[0m\u001b[1;33m[\u001b[0m\u001b[1;34m'results'\u001b[0m\u001b[1;33m]\u001b[0m\u001b[1;33m[\u001b[0m\u001b[1;36m0\u001b[0m\u001b[1;33m]\u001b[0m\u001b[1;33m[\u001b[0m\u001b[1;34m'trackName'\u001b[0m\u001b[1;33m]\u001b[0m\u001b[1;33m\u001b[0m\u001b[1;33m\u001b[0m\u001b[0m\n\u001b[0m",
      "\u001b[1;31mKeyError\u001b[0m: 'trackName'"
     ]
    }
   ],
   "source": [
    "info['results'][0]['trackName']"
   ]
  },
  {
   "cell_type": "markdown",
   "metadata": {},
   "source": [
    "### Print the name of all songs"
   ]
  },
  {
   "cell_type": "code",
   "execution_count": 59,
   "metadata": {},
   "outputs": [
    {
     "ename": "KeyError",
     "evalue": "'trackName'",
     "output_type": "error",
     "traceback": [
      "\u001b[1;31m---------------------------------------------------------------------------\u001b[0m",
      "\u001b[1;31mKeyError\u001b[0m                                  Traceback (most recent call last)",
      "\u001b[1;32m<ipython-input-59-bf722096470b>\u001b[0m in \u001b[0;36m<module>\u001b[1;34m\u001b[0m\n\u001b[0;32m      2\u001b[0m \u001b[1;31m#[result['trackName'] for result in info['results']]\u001b[0m\u001b[1;33m\u001b[0m\u001b[1;33m\u001b[0m\u001b[1;33m\u001b[0m\u001b[0m\n\u001b[0;32m      3\u001b[0m \u001b[1;33m\u001b[0m\u001b[0m\n\u001b[1;32m----> 4\u001b[1;33m \u001b[0msongs\u001b[0m \u001b[1;33m=\u001b[0m\u001b[1;33m[\u001b[0m\u001b[0minfo\u001b[0m\u001b[1;33m[\u001b[0m\u001b[1;34m'results'\u001b[0m\u001b[1;33m]\u001b[0m\u001b[1;33m[\u001b[0m\u001b[0mi\u001b[0m\u001b[1;33m]\u001b[0m\u001b[1;33m[\u001b[0m\u001b[1;34m'trackName'\u001b[0m\u001b[1;33m]\u001b[0m \u001b[1;32mfor\u001b[0m \u001b[0mi\u001b[0m \u001b[1;32min\u001b[0m \u001b[0mrange\u001b[0m\u001b[1;33m(\u001b[0m\u001b[1;36m0\u001b[0m\u001b[1;33m,\u001b[0m \u001b[0minfo\u001b[0m\u001b[1;33m[\u001b[0m\u001b[1;34m'resultCount'\u001b[0m\u001b[1;33m]\u001b[0m\u001b[1;33m)\u001b[0m\u001b[1;33m]\u001b[0m\u001b[1;33m\u001b[0m\u001b[1;33m\u001b[0m\u001b[0m\n\u001b[0m\u001b[0;32m      5\u001b[0m \u001b[1;33m\u001b[0m\u001b[0m\n\u001b[0;32m      6\u001b[0m \u001b[0msongs\u001b[0m\u001b[1;33m\u001b[0m\u001b[1;33m\u001b[0m\u001b[0m\n",
      "\u001b[1;32m<ipython-input-59-bf722096470b>\u001b[0m in \u001b[0;36m<listcomp>\u001b[1;34m(.0)\u001b[0m\n\u001b[0;32m      2\u001b[0m \u001b[1;31m#[result['trackName'] for result in info['results']]\u001b[0m\u001b[1;33m\u001b[0m\u001b[1;33m\u001b[0m\u001b[1;33m\u001b[0m\u001b[0m\n\u001b[0;32m      3\u001b[0m \u001b[1;33m\u001b[0m\u001b[0m\n\u001b[1;32m----> 4\u001b[1;33m \u001b[0msongs\u001b[0m \u001b[1;33m=\u001b[0m\u001b[1;33m[\u001b[0m\u001b[0minfo\u001b[0m\u001b[1;33m[\u001b[0m\u001b[1;34m'results'\u001b[0m\u001b[1;33m]\u001b[0m\u001b[1;33m[\u001b[0m\u001b[0mi\u001b[0m\u001b[1;33m]\u001b[0m\u001b[1;33m[\u001b[0m\u001b[1;34m'trackName'\u001b[0m\u001b[1;33m]\u001b[0m \u001b[1;32mfor\u001b[0m \u001b[0mi\u001b[0m \u001b[1;32min\u001b[0m \u001b[0mrange\u001b[0m\u001b[1;33m(\u001b[0m\u001b[1;36m0\u001b[0m\u001b[1;33m,\u001b[0m \u001b[0minfo\u001b[0m\u001b[1;33m[\u001b[0m\u001b[1;34m'resultCount'\u001b[0m\u001b[1;33m]\u001b[0m\u001b[1;33m)\u001b[0m\u001b[1;33m]\u001b[0m\u001b[1;33m\u001b[0m\u001b[1;33m\u001b[0m\u001b[0m\n\u001b[0m\u001b[0;32m      5\u001b[0m \u001b[1;33m\u001b[0m\u001b[0m\n\u001b[0;32m      6\u001b[0m \u001b[0msongs\u001b[0m\u001b[1;33m\u001b[0m\u001b[1;33m\u001b[0m\u001b[0m\n",
      "\u001b[1;31mKeyError\u001b[0m: 'trackName'"
     ]
    }
   ],
   "source": [
    "# Otra forma\n",
    "#[result['trackName'] for result in info['results']]\n",
    "\n",
    "songs =[info['results'][i]['trackName'] for i in range(0, info['resultCount'])]\n",
    "\n",
    "songs"
   ]
  },
  {
   "cell_type": "markdown",
   "metadata": {},
   "source": [
    "### Print out the release date of all songs"
   ]
  },
  {
   "cell_type": "code",
   "execution_count": 45,
   "metadata": {},
   "outputs": [
    {
     "data": {
      "text/plain": [
       "['1962-10-05T12:00:00Z',\n",
       " '1962-10-05T12:00:00Z',\n",
       " '1963-01-11T12:00:00Z',\n",
       " '1963-01-11T12:00:00Z',\n",
       " '1963-03-22T12:00:00Z',\n",
       " '1963-04-11T12:00:00Z',\n",
       " '1963-08-23T12:00:00Z',\n",
       " '1963-08-23T12:00:00Z',\n",
       " '1963-11-22T12:00:00Z',\n",
       " '1963-11-22T12:00:00Z',\n",
       " '1963-11-22T12:00:00Z',\n",
       " '1963-11-22T12:00:00Z',\n",
       " '1963-11-22T12:00:00Z',\n",
       " '1963-11-22T12:00:00Z',\n",
       " '1963-11-22T12:00:00Z',\n",
       " '1963-11-22T12:00:00Z',\n",
       " '1963-11-22T12:00:00Z',\n",
       " '1963-11-22T12:00:00Z',\n",
       " '1963-11-22T12:00:00Z',\n",
       " '1963-11-22T12:00:00Z',\n",
       " '1963-11-22T12:00:00Z',\n",
       " '1963-11-22T12:00:00Z',\n",
       " '1963-11-22T12:00:00Z',\n",
       " '1963-11-29T12:00:00Z',\n",
       " '1963-11-29T12:00:00Z',\n",
       " '1964-03-16T12:00:00Z',\n",
       " '1964-03-16T12:00:00Z',\n",
       " '1964-07-10T12:00:00Z',\n",
       " '1964-07-10T12:00:00Z',\n",
       " '1964-07-10T12:00:00Z',\n",
       " '1964-11-23T12:00:00Z',\n",
       " '1964-11-24T12:00:00Z',\n",
       " '1964-12-04T12:00:00Z',\n",
       " '1964-12-04T12:00:00Z',\n",
       " '1964-12-04T12:00:00Z',\n",
       " '1964-12-04T12:00:00Z',\n",
       " '1964-12-04T12:00:00Z',\n",
       " '1964-12-04T12:00:00Z',\n",
       " '1964-12-04T12:00:00Z',\n",
       " '1964-12-04T12:00:00Z',\n",
       " '1964-12-04T12:00:00Z',\n",
       " '1965-04-09T12:00:00Z',\n",
       " '1965-04-09T12:00:00Z',\n",
       " '1965-07-19T12:00:00Z',\n",
       " '1965-07-19T12:00:00Z',\n",
       " '1965-07-19T12:00:00Z',\n",
       " '1965-08-06T12:00:00Z',\n",
       " '1965-08-06T12:00:00Z',\n",
       " '1965-09-13T12:00:00Z',\n",
       " '1965-12-03T12:00:00Z',\n",
       " '1965-12-03T12:00:00Z',\n",
       " '1965-12-03T12:00:00Z',\n",
       " '1965-12-03T12:00:00Z',\n",
       " '1965-12-03T12:00:00Z',\n",
       " '1965-12-03T12:00:00Z',\n",
       " '1965-12-03T12:00:00Z',\n",
       " '1965-12-03T12:00:00Z',\n",
       " '1965-12-03T12:00:00Z',\n",
       " '1965-12-03T12:00:00Z',\n",
       " '1965-12-03T12:00:00Z',\n",
       " '1965-12-03T12:00:00Z',\n",
       " '1965-12-03T12:00:00Z',\n",
       " '1965-12-03T12:00:00Z',\n",
       " '1965-12-03T12:00:00Z',\n",
       " '1965-12-03T12:00:00Z',\n",
       " '1965-12-03T12:00:00Z',\n",
       " '1965-12-03T12:00:00Z',\n",
       " '1966-05-30T12:00:00Z',\n",
       " '1966-05-30T12:00:00Z',\n",
       " '1966-08-05T12:00:00Z',\n",
       " '1966-08-05T12:00:00Z',\n",
       " '1966-08-05T12:00:00Z',\n",
       " '1966-08-05T12:00:00Z',\n",
       " '1966-08-05T12:00:00Z',\n",
       " '1966-08-05T12:00:00Z',\n",
       " '1966-08-05T12:00:00Z',\n",
       " '1966-08-05T12:00:00Z',\n",
       " '1966-08-05T12:00:00Z',\n",
       " '1966-08-05T12:00:00Z',\n",
       " '1967-02-13T12:00:00Z',\n",
       " '1967-02-13T12:00:00Z',\n",
       " '1967-02-13T12:00:00Z',\n",
       " '1967-05-26T12:00:00Z',\n",
       " '1967-05-26T12:00:00Z',\n",
       " '1967-05-26T12:00:00Z',\n",
       " '1967-05-26T12:00:00Z',\n",
       " '1967-05-26T12:00:00Z',\n",
       " '1967-05-26T12:00:00Z',\n",
       " '1967-05-26T12:00:00Z',\n",
       " '1967-05-26T12:00:00Z',\n",
       " '1967-05-26T12:00:00Z',\n",
       " '1967-05-26T12:00:00Z',\n",
       " '1967-05-26T12:00:00Z',\n",
       " '1967-05-26T12:00:00Z',\n",
       " '1967-05-26T12:00:00Z',\n",
       " '1967-06-01T12:00:00Z',\n",
       " '1967-06-01T12:00:00Z',\n",
       " '1967-06-01T12:00:00Z',\n",
       " '1967-07-07T12:00:00Z',\n",
       " '1967-07-07T12:00:00Z',\n",
       " '1967-11-24T12:00:00Z',\n",
       " '1967-11-24T12:00:00Z',\n",
       " '1967-11-24T12:00:00Z',\n",
       " '1967-11-27T12:00:00Z',\n",
       " '1967-11-27T12:00:00Z',\n",
       " '1968-03-15T12:00:00Z',\n",
       " '1968-03-15T12:00:00Z',\n",
       " '1968-08-26T12:00:00Z',\n",
       " '1968-08-26T12:00:00Z',\n",
       " '1968-08-26T12:00:00Z',\n",
       " '1968-11-22T12:00:00Z',\n",
       " '1968-11-22T12:00:00Z',\n",
       " '1968-11-22T12:00:00Z',\n",
       " '1968-11-22T12:00:00Z',\n",
       " '1968-11-22T12:00:00Z',\n",
       " '1968-11-22T12:00:00Z',\n",
       " '1968-11-22T12:00:00Z',\n",
       " '1968-11-22T12:00:00Z',\n",
       " '1968-11-22T12:00:00Z',\n",
       " '1968-11-22T12:00:00Z',\n",
       " '1968-11-22T12:00:00Z',\n",
       " '1968-11-22T12:00:00Z',\n",
       " '1968-11-22T12:00:00Z',\n",
       " '1968-11-22T12:00:00Z',\n",
       " '1968-11-22T12:00:00Z',\n",
       " '1968-11-22T12:00:00Z',\n",
       " '1968-11-22T12:00:00Z',\n",
       " '1968-11-22T12:00:00Z',\n",
       " '1968-11-22T12:00:00Z',\n",
       " '1968-11-22T12:00:00Z',\n",
       " '1968-11-22T12:00:00Z',\n",
       " '1968-11-22T12:00:00Z',\n",
       " '1968-11-22T12:00:00Z',\n",
       " '1968-11-22T12:00:00Z',\n",
       " '1968-11-22T12:00:00Z',\n",
       " '1968-11-22T12:00:00Z',\n",
       " '1968-11-22T12:00:00Z',\n",
       " '1968-11-22T12:00:00Z',\n",
       " '1968-11-22T12:00:00Z',\n",
       " '1968-11-22T12:00:00Z',\n",
       " '1968-11-22T12:00:00Z',\n",
       " '1968-11-22T12:00:00Z',\n",
       " '1968-11-22T12:00:00Z',\n",
       " '1969-04-11T12:00:00Z',\n",
       " '1969-04-11T12:00:00Z',\n",
       " '1969-04-11T12:00:00Z',\n",
       " '1969-05-30T12:00:00Z',\n",
       " '1969-05-30T12:00:00Z',\n",
       " '1969-05-30T12:00:00Z',\n",
       " '1969-09-26T12:00:00Z',\n",
       " '1969-09-26T12:00:00Z',\n",
       " '1969-09-26T12:00:00Z',\n",
       " '1969-09-26T12:00:00Z',\n",
       " '1969-09-26T12:00:00Z',\n",
       " '1969-09-26T12:00:00Z',\n",
       " '1969-09-26T12:00:00Z',\n",
       " '1969-09-26T12:00:00Z',\n",
       " '1969-09-26T12:00:00Z',\n",
       " '1969-09-26T12:00:00Z',\n",
       " '1969-09-26T12:00:00Z',\n",
       " '1969-09-26T12:00:00Z',\n",
       " '1969-09-26T12:00:00Z',\n",
       " '1969-09-26T12:00:00Z',\n",
       " '1969-09-26T12:00:00Z',\n",
       " '1969-09-26T12:00:00Z',\n",
       " '1969-09-26T12:00:00Z',\n",
       " '1969-09-26T12:00:00Z',\n",
       " '1969-10-06T12:00:00Z',\n",
       " '1969-10-06T12:00:00Z',\n",
       " '1969-12-12T12:00:00Z',\n",
       " '1970-03-06T12:00:00Z',\n",
       " '1970-03-06T12:00:00Z',\n",
       " '1970-05-08T12:00:00Z',\n",
       " '1970-05-11T12:00:00Z',\n",
       " '1973-04-19T12:00:00Z',\n",
       " '1983-05-01T12:00:00Z',\n",
       " '1983-05-01T12:00:00Z',\n",
       " '1995-11-27T08:00:00Z',\n",
       " '2001-10-22T12:00:00Z',\n",
       " '2005-09-13T12:00:00Z',\n",
       " '2005-11-01T08:00:00Z',\n",
       " '2006-04-18T12:00:00Z',\n",
       " '2006-09-05T07:00:00Z',\n",
       " '2007-09-27T07:00:00Z',\n",
       " '2010-03-15T12:00:00Z',\n",
       " '2010-03-18T07:00:00Z',\n",
       " '2012-03-16T07:00:00Z',\n",
       " '2013-04-30T12:00:00Z',\n",
       " '2013-09-24T07:00:00Z',\n",
       " '2016-03-15T07:00:00Z',\n",
       " '2016-08-12T12:00:00Z',\n",
       " '2016-08-12T12:00:00Z',\n",
       " '2016-08-12T12:00:00Z',\n",
       " '2019-05-22T07:00:00Z',\n",
       " '2019-05-22T07:00:00Z',\n",
       " '2019-08-07T07:00:00Z',\n",
       " '2019-08-23T07:00:00Z',\n",
       " '2019-09-06T07:00:00Z',\n",
       " '2019-09-20T07:00:00Z',\n",
       " '2021-08-28T07:00:00Z']"
      ]
     },
     "execution_count": 45,
     "metadata": {},
     "output_type": "execute_result"
    }
   ],
   "source": [
    "release_dates = [info['results'][i]['releaseDate'] for i in range(0, info['resultCount']) ]\n",
    "release_Date = sorted(release_dates)\n",
    "release_Date"
   ]
  },
  {
   "cell_type": "code",
   "execution_count": null,
   "metadata": {},
   "outputs": [],
   "source": []
  }
 ],
 "metadata": {
  "kernelspec": {
   "display_name": "Python 3",
   "language": "python",
   "name": "python3"
  },
  "language_info": {
   "codemirror_mode": {
    "name": "ipython",
    "version": 3
   },
   "file_extension": ".py",
   "mimetype": "text/x-python",
   "name": "python",
   "nbconvert_exporter": "python",
   "pygments_lexer": "ipython3",
   "version": "3.8.8"
  }
 },
 "nbformat": 4,
 "nbformat_minor": 2
}
